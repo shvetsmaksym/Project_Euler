{
 "cells": [
  {
   "cell_type": "markdown",
   "metadata": {},
   "source": [
    "# Problem"
   ]
  },
  {
   "cell_type": "markdown",
   "metadata": {},
   "source": [
    "    By replacing the 1st digit of the 2-digit number *3, it turns out that six of the nine possible values: 13, 23, 43, 53, 73, and 83, are all prime.\n",
    "\n",
    "    By replacing the 3rd and 4th digits of 56**3 with the same digit, this 5-digit number is the first example having seven primes among the ten generated numbers, yielding the family: 56003, 56113, 56333, 56443, 56663, 56773, and 56993.\n",
    "    Consequently 56003, being the first member of this family, is the smallest prime with this property.\n",
    "\n",
    "    Find the smallest prime which, by replacing part of the number (not necessarily adjacent digits) with the same digit, is part of an eight prime value family."
   ]
  },
  {
   "cell_type": "markdown",
   "metadata": {},
   "source": [
    "# Solution"
   ]
  },
  {
   "cell_type": "markdown",
   "metadata": {},
   "source": [
    "    First at all, we are probabry going to deal with huge numbers, therefore we need a fast algorithms to check if number is prime. Eratosthenes sieve has o(n^2) time complexity and becomes really slow above 1000. \n",
    "    I spent some time searching for a good algorithm checking if number is prime and found the Miller_Rabin_test. The idea of this algorithm is quite hard for understanding (at least for me), so I've just copied the code as a function and I am going to use it main function."
   ]
  },
  {
   "cell_type": "code",
   "execution_count": 4,
   "metadata": {},
   "outputs": [],
   "source": [
    "from itertools import product"
   ]
  },
  {
   "cell_type": "code",
   "execution_count": 136,
   "metadata": {
    "scrolled": true
   },
   "outputs": [],
   "source": [
    "def try_composite(a, d, n, s):\n",
    "    if pow(a, d, n) == 1:\n",
    "        return False\n",
    "    for i in range(s):\n",
    "        if pow(a, 2 ** i * d, n) == n - 1:\n",
    "            return False\n",
    "    return True \n",
    "\n",
    "def Miller_Rabin_test(n, precision_for_huge_n=16):\n",
    "    if n in known_primes or n in (0, 1):\n",
    "        return True\n",
    "    if any((n % p) == 0 for p in known_primes):\n",
    "        return False\n",
    "    d, s = n - 1, 0\n",
    "    while not d % 2:\n",
    "        d, s = d >> 1, s + 1\n",
    "    if n < 1373653:\n",
    "        return not any(try_composite(a, d, n, s) for a in (2, 3))\n",
    "    if n < 25326001:\n",
    "        return not any(try_composite(a, d, n, s) for a in (2, 3, 5))\n",
    "    if n < 118670087467:\n",
    "        if n == 3215031751:\n",
    "            return False\n",
    "        return not any(try_composite(a, d, n, s) for a in (2, 3, 5, 7))\n",
    "    if n < 2152302898747:\n",
    "        return not any(try_composite(a, d, n, s) for a in (2, 3, 5, 7, 11))\n",
    "    if n < 3474749660383:\n",
    "        return not any(try_composite(a, d, n, s) for a in (2, 3, 5, 7, 11, 13))\n",
    "    if n < 341550071728321:\n",
    "        return not any(try_composite(a, d, n, s) for a in (2, 3, 5, 7, 11, 13, 17))\n",
    "    if n < 3825123056546413051:\n",
    "        return not any(try_composite(a, d, n, s) for a in (2, 3, 5, 7, 11, 13, 17, 19, 23))\n",
    "    if n < pow(2, 64):\n",
    "        return not any(try_composite(a, d, n, s) for a in (2, 3, 5, 7, 11, 13, 17, 19, 23, 29, 31, 37))\n",
    "    # otherwise\n",
    "    return not any(try_composite(a, d, n, s) for a in known_primes[:precision_for_huge_n])\n",
    "\n",
    "known_primes = [2, 3]\n",
    "known_primes += [x for x in range(5, 1000, 2) if Miller_Rabin_test(x)]"
   ]
  },
  {
   "cell_type": "markdown",
   "metadata": {},
   "source": [
    "    Let's define a main function, which will be doing all possible digit replacements for following primes.\n",
    "    This function will also return a prime if n results of digit replacements are primes.\n",
    "    \n",
    "    But before that I am going to create an inside function prime_replacements() returning a single set of replacements.\n",
    "    In this way we'll make our code more \"readable\"."
   ]
  },
  {
   "cell_type": "code",
   "execution_count": 138,
   "metadata": {},
   "outputs": [],
   "source": [
    "def prime_replacements(pattern, num):\n",
    "    \n",
    "    repls = []\n",
    "    \n",
    "    for i in range(0, 10):\n",
    "        num_str = str(num)\n",
    "        \n",
    "        for j in range(len(pattern)):\n",
    "            # Check if we are not going to change the first digit to 0.\n",
    "            # '2009' -> '0009' that converts into 9.\n",
    "            if i == 0 and j == 0 and pattern[j] == True:\n",
    "                break\n",
    "            \n",
    "            elif pattern[j] == True:\n",
    "                num_str = num_str[:j] + str(i) + num_str[j+1:]\n",
    "                \n",
    "            else:\n",
    "                continue\n",
    "        \n",
    "        number = int(num_str)\n",
    "        if Miller_Rabin_test(number):\n",
    "            repls.append(number)\n",
    "            prime_repl[int(num_str)] = True\n",
    "            \n",
    "    return set(repls)"
   ]
  },
  {
   "cell_type": "code",
   "execution_count": 144,
   "metadata": {},
   "outputs": [],
   "source": [
    "def main():\n",
    "    \n",
    "    global prime_repl\n",
    "    prime_repl = {}\n",
    "    num = 10\n",
    "    \n",
    "    # Generate all possible patterns of replacements with different n for n-digit numbers.\n",
    "    patterns = {}\n",
    "    for n in range(2, 12):\n",
    "        patterns[n] = [x for x in product([True, False], repeat=n-1)][:-1] \n",
    "        # We don't need the last pattern as it fully consists of False and means no replacements.\n",
    "    \n",
    "    while True:\n",
    "        num += 1\n",
    "        \n",
    "        if num in prime_repl.keys():\n",
    "            continue\n",
    "            \n",
    "        elif Miller_Rabin_test(num):\n",
    "            \n",
    "            p = patterns[len(str(num))]\n",
    "            for pattern in p:\n",
    "                # Check if all digits in this pattern are the same.\n",
    "                # For ex. 1009 -> (1019, 2029, 3039, ...) - we change the 1st and 3rd digits.\n",
    "                # So for the firt elemet in set it appears that we change only one digit.\n",
    "                digits = {}\n",
    "                for k in range(len(pattern)):\n",
    "                    if pattern[k] == True:\n",
    "                        digits[str(num)[k]] = True\n",
    "                if len(digits) > 1:\n",
    "                    continue\n",
    "                    \n",
    "                else:    \n",
    "                    primes = prime_replacements(pattern, num)\n",
    "                    \n",
    "                    if len(primes) == 8:\n",
    "                        return num, primes\n",
    "        \n",
    "        else:\n",
    "            continue"
   ]
  },
  {
   "cell_type": "markdown",
   "metadata": {},
   "source": [
    "    Importantly, instead of list I use dictionary (prime_repl = {}) to storage the primes, which we don't need to check again in following iterations.\n",
    "    It seems that list is an optimal solution for adding following primes in list and checking if our number is in it.\n",
    "    On the other hand, in dictionary we need to write some value for key, which is unnecessary.\n",
    "    However, checking if value in dictionary is immediate, when the same operation in list takes O(n) time."
   ]
  },
  {
   "cell_type": "markdown",
   "metadata": {},
   "source": [
    "# Answer"
   ]
  },
  {
   "cell_type": "code",
   "execution_count": 145,
   "metadata": {},
   "outputs": [
    {
     "data": {
      "text/plain": [
       "(424343, {121313, 222323, 323333, 424343, 525353, 626363, 828383, 929393})"
      ]
     },
     "execution_count": 145,
     "metadata": {},
     "output_type": "execute_result"
    }
   ],
   "source": [
    "main()"
   ]
  },
  {
   "cell_type": "markdown",
   "metadata": {},
   "source": [
    "    The answer is the lowest value in a set.\n",
    " \n",
    "    Time complexity of algorithm is 10 * 2^(digits in number) * n\n",
    "    Where 10 - number of digits, 2^(digits in number) - number of patterns for replacements."
   ]
  }
 ],
 "metadata": {
  "kernelspec": {
   "display_name": "Python 3",
   "language": "python",
   "name": "python3"
  },
  "language_info": {
   "codemirror_mode": {
    "name": "ipython",
    "version": 3
   },
   "file_extension": ".py",
   "mimetype": "text/x-python",
   "name": "python",
   "nbconvert_exporter": "python",
   "pygments_lexer": "ipython3",
   "version": "3.8.5"
  }
 },
 "nbformat": 4,
 "nbformat_minor": 4
}
