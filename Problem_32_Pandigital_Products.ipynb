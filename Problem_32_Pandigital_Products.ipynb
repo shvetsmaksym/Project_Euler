{
 "cells": [
  {
   "cell_type": "markdown",
   "metadata": {},
   "source": [
    "# Problem"
   ]
  },
  {
   "cell_type": "markdown",
   "metadata": {},
   "source": [
    "We shall say that an n-digit number is pandigital if it makes use of all the digits 1 to n exactly once; for example, the 5-digit number, 15234, is 1 through 5 pandigital.\n",
    "\n",
    "The product 7254 is unusual, as the identity, 39 × 186 = 7254, containing multiplicand, multiplier, and product is 1 through 9 pandigital.\n",
    "\n",
    "Find the sum of all products whose multiplicand/multiplier/product identity can be written as a 1 through 9 pandigital.\n",
    "\n",
    "HINT: Some products can be obtained in more than one way so be sure to only include it once in your sum."
   ]
  },
  {
   "cell_type": "code",
   "execution_count": 4,
   "metadata": {},
   "outputs": [],
   "source": [
    "from itertools import permutations"
   ]
  },
  {
   "cell_type": "markdown",
   "metadata": {},
   "source": [
    "IDEA: <br>\n",
    "There are two possible ways when multiplicand/multiplier/product identity can be written as a 1 through 9 pandigital: <br>\n",
    "m/m/p = 1-digit number / 4-digit number / 4-digit number (1-4-4)<br>\n",
    "m/m/p = 2-digit number / 3-digit number / 4-digit number (2-3-4)<br>"
   ]
  },
  {
   "cell_type": "code",
   "execution_count": 8,
   "metadata": {},
   "outputs": [],
   "source": [
    "# (1-4-4)\n",
    "def one_four_four(s):\n",
    "    res = []\n",
    "    for perm in permutations(s):\n",
    "        str_a, str_b, str_c = '', '', ''\n",
    "        a = int( str_a.join(list(perm)[:1]) )\n",
    "        b = int( str_b.join(list(perm)[1:5]) )\n",
    "        c = int( str_c.join(list(perm)[5:]) )\n",
    "\n",
    "        if a * b == c:\n",
    "            res.append(c)\n",
    "    return res"
   ]
  },
  {
   "cell_type": "code",
   "execution_count": 9,
   "metadata": {},
   "outputs": [],
   "source": [
    "# (2-3-4)\n",
    "def two_three_four(s):\n",
    "    res = []\n",
    "    for perm in permutations(s):\n",
    "        str_a, str_b, str_c = '', '', ''\n",
    "        a = int( str_a.join(list(perm)[:2]) )\n",
    "        b = int( str_b.join(list(perm)[2:5]) )\n",
    "        c = int( str_c.join(list(perm)[5:]) )\n",
    "\n",
    "        if a * b == c:\n",
    "            res.append(c)\n",
    "    return res"
   ]
  },
  {
   "cell_type": "markdown",
   "metadata": {},
   "source": [
    "# Answer"
   ]
  },
  {
   "cell_type": "code",
   "execution_count": 10,
   "metadata": {},
   "outputs": [
    {
     "name": "stdout",
     "output_type": "stream",
     "text": [
      "45228\n"
     ]
    }
   ],
   "source": [
    "list1 = one_four_four('123456789')\n",
    "list2 = two_three_four('123456789')\n",
    "list1.extend(list2)\n",
    "s = set(list1)\n",
    "print(sum(s))"
   ]
  },
  {
   "cell_type": "code",
   "execution_count": null,
   "metadata": {},
   "outputs": [],
   "source": []
  }
 ],
 "metadata": {
  "kernelspec": {
   "display_name": "Python 3",
   "language": "python",
   "name": "python3"
  },
  "language_info": {
   "codemirror_mode": {
    "name": "ipython",
    "version": 3
   },
   "file_extension": ".py",
   "mimetype": "text/x-python",
   "name": "python",
   "nbconvert_exporter": "python",
   "pygments_lexer": "ipython3",
   "version": "3.8.5"
  }
 },
 "nbformat": 4,
 "nbformat_minor": 4
}
