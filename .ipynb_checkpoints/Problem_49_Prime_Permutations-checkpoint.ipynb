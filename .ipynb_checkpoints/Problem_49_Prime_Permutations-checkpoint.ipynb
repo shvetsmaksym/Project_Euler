{
 "cells": [
  {
   "cell_type": "markdown",
   "metadata": {},
   "source": [
    "# Problem"
   ]
  },
  {
   "cell_type": "markdown",
   "metadata": {},
   "source": [
    "The arithmetic sequence, 1487, 4817, 8147, in which each of the terms increases by 3330, is unusual in two ways: (i) each of the three terms are prime, and, (ii) each of the 4-digit numbers are permutations of one another.\n",
    "\n",
    "There are no arithmetic sequences made up of three 1-, 2-, or 3-digit primes, exhibiting this property, but there is one other 4-digit increasing sequence.\n",
    "\n",
    "What 12-digit number do you form by concatenating the three terms in this sequence?"
   ]
  },
  {
   "cell_type": "markdown",
   "metadata": {},
   "source": [
    "# Solution"
   ]
  },
  {
   "cell_type": "markdown",
   "metadata": {},
   "source": [
    "As we know that we are going to deal only with 4-digit primes, there are no necessity of using fast but complicated Muller-Rabin test to check if number is prime.\n",
    "\n",
    "Eratosthenes sieve will be enough for our purposes."
   ]
  },
  {
   "cell_type": "code",
   "execution_count": 42,
   "metadata": {},
   "outputs": [],
   "source": [
    "from math import sqrt"
   ]
  },
  {
   "cell_type": "code",
   "execution_count": 47,
   "metadata": {},
   "outputs": [],
   "source": [
    "def eratosthenes_sieve(n):\n",
    "    sieve = [x for x in range(2, n)]\n",
    "    for i in range(2, int(sqrt(n)+1)):\n",
    "        for j in sieve:\n",
    "            if j % i == 0 and j != i:\n",
    "                sieve.remove(j)\n",
    "    return sieve    "
   ]
  },
  {
   "cell_type": "code",
   "execution_count": 96,
   "metadata": {},
   "outputs": [],
   "source": [
    "primes = [x for x in eratosthenes_sieve(10_000) if x > 1000]"
   ]
  },
  {
   "cell_type": "markdown",
   "metadata": {},
   "source": [
    "    Check the number of primes are have to deal with."
   ]
  },
  {
   "cell_type": "code",
   "execution_count": 97,
   "metadata": {},
   "outputs": [
    {
     "data": {
      "text/plain": [
       "1061"
      ]
     },
     "execution_count": 97,
     "metadata": {},
     "output_type": "execute_result"
    }
   ],
   "source": [
    "len(primes)"
   ]
  },
  {
   "cell_type": "code",
   "execution_count": 98,
   "metadata": {},
   "outputs": [],
   "source": [
    "from itertools import permutations"
   ]
  },
  {
   "cell_type": "code",
   "execution_count": 128,
   "metadata": {},
   "outputs": [],
   "source": [
    "\"\"\"Create a dict of primes having prime permutations.\"\"\"\n",
    "prime_permutations = dict()\n",
    "\n",
    "for prime in primes:\n",
    "    \n",
    "    prime_permutations[prime] = list()\n",
    "    \n",
    "    for perm in permutations(str(prime)):\n",
    "        \n",
    "        num = int(\"\".join(perm))\n",
    "        \n",
    "        if num in primes:\n",
    "            prime_permutations[prime].append(num)\n",
    "    \n",
    "    # Sort\n",
    "    sorted(prime_permutations[prime])\n",
    "    \n",
    "    # Left only those primes, which have at least 3 prime permutations.\n",
    "    if len(prime_permutations[prime]) < 3:\n",
    "        prime_permutations.pop(prime)"
   ]
  },
  {
   "cell_type": "markdown",
   "metadata": {},
   "source": [
    "    Let's see how many primes left after this."
   ]
  },
  {
   "cell_type": "code",
   "execution_count": 140,
   "metadata": {},
   "outputs": [
    {
     "data": {
      "text/plain": [
       "952"
      ]
     },
     "execution_count": 140,
     "metadata": {},
     "output_type": "execute_result"
    }
   ],
   "source": [
    "len(prime_permutations)"
   ]
  },
  {
   "cell_type": "markdown",
   "metadata": {},
   "source": [
    "    Didn't help a lot :(\n",
    "    Anyway, let's try do with that what we can."
   ]
  },
  {
   "cell_type": "markdown",
   "metadata": {},
   "source": [
    "    Next step is to find all 3-element combinations in every permutation set.\n",
    "    Then, we only have to find one combination(aside from (1487, 4817, 8147) that was given in the task) which is an arithmetic sequence."
   ]
  },
  {
   "cell_type": "code",
   "execution_count": 133,
   "metadata": {},
   "outputs": [],
   "source": [
    "from itertools import combinations"
   ]
  },
  {
   "cell_type": "code",
   "execution_count": 142,
   "metadata": {},
   "outputs": [],
   "source": [
    "def prime_sequence():\n",
    "    \n",
    "    for key, value in prime_permutations.items():\n",
    "    \n",
    "        for comb in combinations(value, 3):\n",
    "            \n",
    "            if comb[2] - comb[1] == comb[1] - comb[0] != 0 and 1487 not in comb:\n",
    "                return comb"
   ]
  },
  {
   "cell_type": "markdown",
   "metadata": {},
   "source": [
    "# Answer"
   ]
  },
  {
   "cell_type": "code",
   "execution_count": 151,
   "metadata": {},
   "outputs": [
    {
     "data": {
      "text/plain": [
       "296962999629"
      ]
     },
     "execution_count": 151,
     "metadata": {},
     "output_type": "execute_result"
    }
   ],
   "source": [
    "primes = prime_sequence()\n",
    "answer = \"\"\n",
    "for p in primes:\n",
    "    answer += str(p)\n",
    "int(answer)"
   ]
  }
 ],
 "metadata": {
  "kernelspec": {
   "display_name": "Python 3",
   "language": "python",
   "name": "python3"
  },
  "language_info": {
   "codemirror_mode": {
    "name": "ipython",
    "version": 3
   },
   "file_extension": ".py",
   "mimetype": "text/x-python",
   "name": "python",
   "nbconvert_exporter": "python",
   "pygments_lexer": "ipython3",
   "version": "3.8.5"
  }
 },
 "nbformat": 4,
 "nbformat_minor": 4
}
