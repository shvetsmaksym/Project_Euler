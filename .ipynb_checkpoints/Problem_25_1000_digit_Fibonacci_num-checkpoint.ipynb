{
 "cells": [
  {
   "cell_type": "markdown",
   "metadata": {},
   "source": [
    "# PROBLEM:\n",
    "# What is the index of the first term in the Fibonacci sequence to contain 1000 digits?"
   ]
  },
  {
   "cell_type": "markdown",
   "metadata": {},
   "source": [
    "Define a recursive function that returns n-th term of the Fibonacci sequence.\n",
    "Importantly, we have to improve standard recursive function in order to calculate huge 1000-digit n-th term. The problem with standard function is that we refer to the same term a lot of times, and each time we need to calculate it from beginingIt is binary tree. Therefore, we are going to define a dictionary of Fibonacci terms, so we have to calculate each term only once. Next time we need this term we take it from dictionary instead of calculating it again and again."
   ]
  },
  {
   "cell_type": "code",
   "execution_count": 1,
   "metadata": {},
   "outputs": [],
   "source": [
    "fib_dict = {1: 1, 2: 1}\n",
    "def fib(n):\n",
    "    if n in fib_dict:\n",
    "        return fib_dict[n]\n",
    "    else:\n",
    "        fib_dict[n] = fib(n-2) + fib(n-1)\n",
    "        return fib_dict[n]"
   ]
  },
  {
   "cell_type": "code",
   "execution_count": 2,
   "metadata": {},
   "outputs": [],
   "source": [
    "def first_k_digit(k):\n",
    "    i = 1\n",
    "    while len(str(fib(i))) != k:\n",
    "        i += 1\n",
    "    return i"
   ]
  },
  {
   "cell_type": "markdown",
   "metadata": {},
   "source": [
    "# Answer"
   ]
  },
  {
   "cell_type": "code",
   "execution_count": 3,
   "metadata": {},
   "outputs": [
    {
     "data": {
      "text/plain": [
       "4782"
      ]
     },
     "execution_count": 3,
     "metadata": {},
     "output_type": "execute_result"
    }
   ],
   "source": [
    "first_k_digit(1000)"
   ]
  },
  {
   "cell_type": "code",
   "execution_count": null,
   "metadata": {},
   "outputs": [],
   "source": []
  }
 ],
 "metadata": {
  "kernelspec": {
   "display_name": "Python 3",
   "language": "python",
   "name": "python3"
  },
  "language_info": {
   "codemirror_mode": {
    "name": "ipython",
    "version": 3
   },
   "file_extension": ".py",
   "mimetype": "text/x-python",
   "name": "python",
   "nbconvert_exporter": "python",
   "pygments_lexer": "ipython3",
   "version": "3.8.5"
  }
 },
 "nbformat": 4,
 "nbformat_minor": 4
}
