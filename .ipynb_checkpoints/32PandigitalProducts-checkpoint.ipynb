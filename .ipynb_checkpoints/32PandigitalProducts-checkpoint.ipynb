{
 "cells": [
  {
   "cell_type": "code",
   "execution_count": 2,
   "metadata": {},
   "outputs": [],
   "source": [
    "from itertools import permutations"
   ]
  },
  {
   "cell_type": "markdown",
   "metadata": {},
   "source": [
    "IDEA: <br>\n",
    "There are two possibilities when multiplicand/multiplier/product identity can be written as a 1 through 9 pandigital: <br>\n",
    "m/m/p = 1-digit number / 4-digit number / 4-digit number (1-4-4)<br>\n",
    "m/m/p = 2-digit number / 3-digit number / 4-digit number (2-3-4)<br>"
   ]
  },
  {
   "cell_type": "code",
   "execution_count": 23,
   "metadata": {},
   "outputs": [],
   "source": [
    "# (1-4-4)\n",
    "def one_four_four(s):\n",
    "    res = []\n",
    "    for perm in permutations(s):\n",
    "        str_a = ''\n",
    "        str_b = ''\n",
    "        str_c = ''\n",
    "        a = int( str_a.join(list(perm)[:1]) )\n",
    "        b = int( str_b.join(list(perm)[1:5]) )\n",
    "        c = int( str_c.join(list(perm)[5:]) )\n",
    "\n",
    "        if a * b == c:\n",
    "            res.append(c)\n",
    "    return res"
   ]
  },
  {
   "cell_type": "code",
   "execution_count": 24,
   "metadata": {},
   "outputs": [],
   "source": [
    "# (2-3-4)\n",
    "def two_three_four(s):\n",
    "    res = []\n",
    "    for perm in permutations(s):\n",
    "        str_a = ''\n",
    "        str_b = ''\n",
    "        str_c = ''\n",
    "        a = int( str_a.join(list(perm)[:2]) )\n",
    "        b = int( str_b.join(list(perm)[2:5]) )\n",
    "        c = int( str_c.join(list(perm)[5:]) )\n",
    "\n",
    "        if a * b == c:\n",
    "            res.append(c)\n",
    "    return res"
   ]
  },
  {
   "cell_type": "code",
   "execution_count": 25,
   "metadata": {},
   "outputs": [
    {
     "name": "stdout",
     "output_type": "stream",
     "text": [
      "45228\n"
     ]
    }
   ],
   "source": [
    "list1 = one_four_four('123456789')\n",
    "list2 = two_three_four('123456789')\n",
    "list1.extend(list2)\n",
    "s = set(list1)\n",
    "print(sum(s))"
   ]
  }
 ],
 "metadata": {
  "kernelspec": {
   "display_name": "Python 3",
   "language": "python",
   "name": "python3"
  },
  "language_info": {
   "codemirror_mode": {
    "name": "ipython",
    "version": 3
   },
   "file_extension": ".py",
   "mimetype": "text/x-python",
   "name": "python",
   "nbconvert_exporter": "python",
   "pygments_lexer": "ipython3",
   "version": "3.8.2"
  }
 },
 "nbformat": 4,
 "nbformat_minor": 4
}
