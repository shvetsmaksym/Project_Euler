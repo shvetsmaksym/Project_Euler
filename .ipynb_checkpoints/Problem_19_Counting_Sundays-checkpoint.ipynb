{
 "cells": [
  {
   "cell_type": "markdown",
   "metadata": {},
   "source": [
    "# Problem 19"
   ]
  },
  {
   "cell_type": "markdown",
   "metadata": {},
   "source": [
    "You are given the following information, but you may prefer to do some research for yourself.\n",
    "\n",
    "1 Jan 1900 was a Monday.\n",
    "\n",
    "Thirty days has September,\n",
    "\n",
    "April, June and November.\n",
    "\n",
    "All the rest have thirty-one,\n",
    "\n",
    "Saving February alone,\n",
    "\n",
    "Which has twenty-eight, rain or shine.\n",
    "\n",
    "And on leap years, twenty-nine.\n",
    "\n",
    "A leap year occurs on any year evenly divisible by 4, but not on a century unless it is divisible by 400.\n",
    "\n",
    "How many Sundays fell on the first of the month during the twentieth century (1 Jan 1901 to 31 Dec 2000)?"
   ]
  },
  {
   "cell_type": "code",
   "execution_count": null,
   "metadata": {},
   "outputs": [],
   "source": [
    "import datetime as dt\n",
    "from itertools import cycle\n",
    "import pandas as pd"
   ]
  },
  {
   "cell_type": "code",
   "execution_count": 81,
   "metadata": {},
   "outputs": [],
   "source": [
    "normalyear = {1 : 31, 2 : 28, 3 : 31,\n",
    "         4 : 30, 5 : 31, 6 : 30,\n",
    "         7 : 31, 8 : 31, 9 : 30,\n",
    "         10 : 31, 11 : 30, 12 : 31}\n",
    "\n",
    "leapyear = {1 : 31, 2 : 29, 3 : 31,\n",
    "         4 : 30, 5 : 31, 6 : 30,\n",
    "         7 : 31, 8 : 31, 9 : 30,\n",
    "         10 : 31, 11 : 30, 12 : 31}\n",
    "\n",
    "daysofweek = cycle([\"Mon\", \"Tue\", \"Wed\", \"Thu\", \"Fri\", \"Sat\", \"Sun\"])"
   ]
  },
  {
   "cell_type": "code",
   "execution_count": 82,
   "metadata": {},
   "outputs": [],
   "source": [
    "dates = []\n",
    "for year in range(1900, 2010):\n",
    "    #Check if year is leap and choose the appropriate calendar\n",
    "    if (year % 4 == 0 and year % 100 != 0) or year % 400 == 0:\n",
    "        months = leapyear\n",
    "    else:\n",
    "        months = normalyear\n",
    "        \n",
    "    for month in months.keys():\n",
    "        for day in range(1, months[month]+1):\n",
    "            dates.append( [year, month, day, next(daysofweek)] )"
   ]
  },
  {
   "cell_type": "code",
   "execution_count": 83,
   "metadata": {},
   "outputs": [],
   "source": [
    "df = pd.DataFrame(dates, columns = [\"Year\", \"Month\", \"Day\", \"Day_of_week\"])"
   ]
  },
  {
   "cell_type": "code",
   "execution_count": 84,
   "metadata": {},
   "outputs": [
    {
     "data": {
      "text/html": [
       "<div>\n",
       "<style scoped>\n",
       "    .dataframe tbody tr th:only-of-type {\n",
       "        vertical-align: middle;\n",
       "    }\n",
       "\n",
       "    .dataframe tbody tr th {\n",
       "        vertical-align: top;\n",
       "    }\n",
       "\n",
       "    .dataframe thead th {\n",
       "        text-align: right;\n",
       "    }\n",
       "</style>\n",
       "<table border=\"1\" class=\"dataframe\">\n",
       "  <thead>\n",
       "    <tr style=\"text-align: right;\">\n",
       "      <th></th>\n",
       "      <th>Year</th>\n",
       "      <th>Month</th>\n",
       "      <th>Day</th>\n",
       "      <th>Day_of_week</th>\n",
       "    </tr>\n",
       "  </thead>\n",
       "  <tbody>\n",
       "    <tr>\n",
       "      <th>608</th>\n",
       "      <td>1901</td>\n",
       "      <td>9</td>\n",
       "      <td>1</td>\n",
       "      <td>Sun</td>\n",
       "    </tr>\n",
       "    <tr>\n",
       "      <th>699</th>\n",
       "      <td>1901</td>\n",
       "      <td>12</td>\n",
       "      <td>1</td>\n",
       "      <td>Sun</td>\n",
       "    </tr>\n",
       "    <tr>\n",
       "      <th>881</th>\n",
       "      <td>1902</td>\n",
       "      <td>6</td>\n",
       "      <td>1</td>\n",
       "      <td>Sun</td>\n",
       "    </tr>\n",
       "    <tr>\n",
       "      <th>1126</th>\n",
       "      <td>1903</td>\n",
       "      <td>2</td>\n",
       "      <td>1</td>\n",
       "      <td>Sun</td>\n",
       "    </tr>\n",
       "    <tr>\n",
       "      <th>1154</th>\n",
       "      <td>1903</td>\n",
       "      <td>3</td>\n",
       "      <td>1</td>\n",
       "      <td>Sun</td>\n",
       "    </tr>\n",
       "    <tr>\n",
       "      <th>...</th>\n",
       "      <td>...</td>\n",
       "      <td>...</td>\n",
       "      <td>...</td>\n",
       "      <td>...</td>\n",
       "    </tr>\n",
       "    <tr>\n",
       "      <th>35825</th>\n",
       "      <td>1998</td>\n",
       "      <td>2</td>\n",
       "      <td>1</td>\n",
       "      <td>Sun</td>\n",
       "    </tr>\n",
       "    <tr>\n",
       "      <th>35853</th>\n",
       "      <td>1998</td>\n",
       "      <td>3</td>\n",
       "      <td>1</td>\n",
       "      <td>Sun</td>\n",
       "    </tr>\n",
       "    <tr>\n",
       "      <th>36098</th>\n",
       "      <td>1998</td>\n",
       "      <td>11</td>\n",
       "      <td>1</td>\n",
       "      <td>Sun</td>\n",
       "    </tr>\n",
       "    <tr>\n",
       "      <th>36371</th>\n",
       "      <td>1999</td>\n",
       "      <td>8</td>\n",
       "      <td>1</td>\n",
       "      <td>Sun</td>\n",
       "    </tr>\n",
       "    <tr>\n",
       "      <th>36798</th>\n",
       "      <td>2000</td>\n",
       "      <td>10</td>\n",
       "      <td>1</td>\n",
       "      <td>Sun</td>\n",
       "    </tr>\n",
       "  </tbody>\n",
       "</table>\n",
       "<p>171 rows × 4 columns</p>\n",
       "</div>"
      ],
      "text/plain": [
       "       Year  Month  Day Day_of_week\n",
       "608    1901      9    1         Sun\n",
       "699    1901     12    1         Sun\n",
       "881    1902      6    1         Sun\n",
       "1126   1903      2    1         Sun\n",
       "1154   1903      3    1         Sun\n",
       "...     ...    ...  ...         ...\n",
       "35825  1998      2    1         Sun\n",
       "35853  1998      3    1         Sun\n",
       "36098  1998     11    1         Sun\n",
       "36371  1999      8    1         Sun\n",
       "36798  2000     10    1         Sun\n",
       "\n",
       "[171 rows x 4 columns]"
      ]
     },
     "execution_count": 84,
     "metadata": {},
     "output_type": "execute_result"
    }
   ],
   "source": [
    "filt = (df[\"Year\"] > 1900) & (df[\"Year\"] < 2001) & (df[\"Day\"] == 1) & (df[\"Day_of_week\"] == \"Sun\")\n",
    "df.loc[filt]"
   ]
  },
  {
   "cell_type": "markdown",
   "metadata": {},
   "source": [
    "# Answer"
   ]
  },
  {
   "cell_type": "markdown",
   "metadata": {},
   "source": [
    "Answer is how many rows remained in data frame after we had used filter (171)."
   ]
  },
  {
   "cell_type": "code",
   "execution_count": null,
   "metadata": {},
   "outputs": [],
   "source": []
  }
 ],
 "metadata": {
  "kernelspec": {
   "display_name": "Python 3",
   "language": "python",
   "name": "python3"
  },
  "language_info": {
   "codemirror_mode": {
    "name": "ipython",
    "version": 3
   },
   "file_extension": ".py",
   "mimetype": "text/x-python",
   "name": "python",
   "nbconvert_exporter": "python",
   "pygments_lexer": "ipython3",
   "version": "3.8.5"
  }
 },
 "nbformat": 4,
 "nbformat_minor": 4
}
