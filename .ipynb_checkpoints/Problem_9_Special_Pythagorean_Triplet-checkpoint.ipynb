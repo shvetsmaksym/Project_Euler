{
 "cells": [
  {
   "cell_type": "markdown",
   "metadata": {},
   "source": [
    "# Problem"
   ]
  },
  {
   "cell_type": "markdown",
   "metadata": {},
   "source": [
    "A Pythagorean triplet is a set of three natural numbers, a < b < c, for which,\n",
    "\n",
    "a^2 + b^2 = c^2 \n",
    "\n",
    "There exists exactly one Pythagorean triplet for which a + b + c = 1000.\n",
    "\n",
    "Find the product a*b*c."
   ]
  },
  {
   "cell_type": "markdown",
   "metadata": {},
   "source": [
    "# Solution"
   ]
  },
  {
   "cell_type": "markdown",
   "metadata": {},
   "source": [
    "We need a function that will find all triplets with the above conditions.\n",
    "\n",
    "To do this we could put each of the variables a, b, c in a loop, but then our algorithm would have O(n^3) time complexity in worst case. That means 1_000_000_000 loops and we are not able to execute it in pretty adequate amount of time.\n",
    "\n",
    "So, we need a better one. \n",
    "\n",
    "Let's put variable a in a loop: O(n). And variables b and c will be coming to each other by step 1: O(n/2). That gives as an algotithm with O(n^2) time complexity. Of course, a+b+c=1000 in every loop."
   ]
  },
  {
   "cell_type": "code",
   "execution_count": 45,
   "metadata": {},
   "outputs": [],
   "source": [
    "def Pythagorean_triplets(Sum=1000):\n",
    "    for a in range(1, Sum // 3): # We can divide the loop for a by 3, because  a < b < c and a + b + c = 1000\n",
    "        b = a + 1\n",
    "        c = Sum - b - a\n",
    "        while b < c:\n",
    "            if a**2 + b**2 == c**2:\n",
    "                yield a, b, c\n",
    "            b += 1\n",
    "            c -= 1\n",
    "    return"
   ]
  },
  {
   "cell_type": "code",
   "execution_count": 49,
   "metadata": {},
   "outputs": [],
   "source": [
    "triplet = list(Pythagorean_triplets())"
   ]
  },
  {
   "cell_type": "markdown",
   "metadata": {},
   "source": [
    "# Answer"
   ]
  },
  {
   "cell_type": "code",
   "execution_count": 53,
   "metadata": {},
   "outputs": [
    {
     "data": {
      "text/plain": [
       "31875000"
      ]
     },
     "execution_count": 53,
     "metadata": {},
     "output_type": "execute_result"
    }
   ],
   "source": [
    "ans = 1\n",
    "for mult in triplet[0]:\n",
    "    ans *= mult\n",
    "ans"
   ]
  },
  {
   "cell_type": "code",
   "execution_count": null,
   "metadata": {},
   "outputs": [],
   "source": []
  }
 ],
 "metadata": {
  "kernelspec": {
   "display_name": "Python 3",
   "language": "python",
   "name": "python3"
  },
  "language_info": {
   "codemirror_mode": {
    "name": "ipython",
    "version": 3
   },
   "file_extension": ".py",
   "mimetype": "text/x-python",
   "name": "python",
   "nbconvert_exporter": "python",
   "pygments_lexer": "ipython3",
   "version": "3.8.5"
  }
 },
 "nbformat": 4,
 "nbformat_minor": 4
}
