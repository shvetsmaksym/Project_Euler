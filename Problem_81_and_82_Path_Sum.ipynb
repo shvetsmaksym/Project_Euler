{
 "cells": [
  {
   "cell_type": "code",
   "execution_count": 2,
   "metadata": {},
   "outputs": [],
   "source": [
    "f = open(\"p081_matrix.txt\", \"r\")\n",
    "tablica = [[int(x) for x in wiersz.split(',')] for wiersz in f.readlines()]\n",
    "\n",
    "#sprawdzamy czy wszystkie wiersze mają tyle samo liczb\n",
    "for i in range(len(tablica)):\n",
    "    if len(tablica[i]) != len(tablica[0]):\n",
    "        raise ValueError('Konflikt wymiarów!')\n"
   ]
  },
  {
   "cell_type": "code",
   "execution_count": 7,
   "metadata": {},
   "outputs": [],
   "source": [
    "class Tablica():\n",
    "    def __init__(self, tab):\n",
    "        self.tab = tab\n",
    "        \n",
    "        #inicjalizujemy drugą tablicę o tych samych wymiarach, w której wszystkim wartościom oprócz pierwszej przypisujemy nieskończoność(inf)\n",
    "        self.tab_0 = []\n",
    "        for wiersz in self.tab:\n",
    "            self.tab_0.append([float('inf') for _ in wiersz])\n",
    "        \n",
    "    def down(self, y, x):\n",
    "        \"Liczy sumę dla kroku w dół. Jeśli otrzymana wartość jest mniejsza od przypisanej wcześniej wartości, to zamienia\"\n",
    "        d = self.tab_0[y][x] + self.tab[y+1][x]\n",
    "        if d < self.tab_0[y+1][x]:\n",
    "            self.tab_0[y+1][x] = d\n",
    "    \n",
    "    def right(self, y, x):\n",
    "        \"Dla kroku w prawo\"\n",
    "        r = self.tab_0[y][x] + self.tab[y][x+1]\n",
    "        if r < self.tab_0[y][x+1]:\n",
    "            self.tab_0[y][x+1] = r\n",
    "            \n",
    "    def up(self, y, x):\n",
    "        \"Dla kroku w górę\"\n",
    "        u = self.tab_0[y][x] + self.tab[y-1][x]\n",
    "        if u < self.tab_0[y-1][x]:\n",
    "            self.tab_0[y-1][x] = u\n",
    "    \n",
    "    def left(self, y, x):\n",
    "        \"Dla kroku w lewo\"\n",
    "        l = self.tab_0[y][x] + self.tab[y][x-1]\n",
    "        if l < self.tab_0[y][x-1]:\n",
    "            self.tab_0[y][x-1] = l"
   ]
  },
  {
   "cell_type": "code",
   "execution_count": 8,
   "metadata": {},
   "outputs": [],
   "source": [
    "def problem_81(tab):\n",
    "    t = Tablica(tab)\n",
    "    t.tab_0[0][0] = t.tab[0][0]\n",
    "    \n",
    "    for i in range(len(t.tab)): #Oś Y\n",
    "    \n",
    "        if i != len(t.tab)-1:\n",
    "            for j in range(len(t.tab)): #Oś X\n",
    "\n",
    "                if j != len(t.tab)-1:\n",
    "                    t.down(i, j)\n",
    "                    t.right(i, j)\n",
    "                else:\n",
    "                    t.down(i, j)\n",
    "\n",
    "        else:\n",
    "            for j in range(len(t.tab)):\n",
    "\n",
    "                if j != len(t.tab)-1:\n",
    "                    t.right(i, j)\n",
    "\n",
    "                else: return t.tab_0[-1][-1]"
   ]
  },
  {
   "cell_type": "code",
   "execution_count": 38,
   "metadata": {},
   "outputs": [],
   "source": [
    "\"\"\"Idea: we divide table for two-column blocks, in which first column already has weights. Then start loop of those blocks.\"\"\"\n",
    "\n",
    "def problem_82(tab):\n",
    "    t = Tablica(tab)\n",
    "    for wiersz in range(len(t.tab)):\n",
    "        t.tab_0[wiersz][0] = t.tab[wiersz][0]\n",
    "    \n",
    "    #Loop for two-column blocks\n",
    "    for x in range(len(t.tab[0]) - 2):\n",
    "        \n",
    "        for y in range(len(t.tab)):\n",
    "            \n",
    "            #First step is right (from x to x+1)\n",
    "            t.right(y, x)\n",
    "            \n",
    "            #Then do all possible steps down/up in x+1 column\n",
    "            for y1 in range(y):\n",
    "                t.up(y1, x+1)\n",
    "                \n",
    "            for y2 in range(y, len(t.tab)-1):\n",
    "                t.down(y2, x+1)\n",
    "    \n",
    "    #In last block we only turn right and stop.\n",
    "    for y in range(len(t.tab)):\n",
    "        t.right(y, len(t.tab[0]) - 2)\n",
    "                \n",
    "    lastCol = [x[-1] for x in t.tab_0]\n",
    "    return min(lastCol)\n",
    "    \n",
    "    "
   ]
  },
  {
   "cell_type": "code",
   "execution_count": 39,
   "metadata": {},
   "outputs": [
    {
     "name": "stdout",
     "output_type": "stream",
     "text": [
      "260324\n"
     ]
    }
   ],
   "source": [
    "print(problem_82(tablica))"
   ]
  },
  {
   "cell_type": "code",
   "execution_count": null,
   "metadata": {},
   "outputs": [],
   "source": []
  }
 ],
 "metadata": {
  "kernelspec": {
   "display_name": "Python 3",
   "language": "python",
   "name": "python3"
  },
  "language_info": {
   "codemirror_mode": {
    "name": "ipython",
    "version": 3
   },
   "file_extension": ".py",
   "mimetype": "text/x-python",
   "name": "python",
   "nbconvert_exporter": "python",
   "pygments_lexer": "ipython3",
   "version": "3.8.5"
  }
 },
 "nbformat": 4,
 "nbformat_minor": 4
}
