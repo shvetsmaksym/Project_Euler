{
 "cells": [
  {
   "cell_type": "markdown",
   "metadata": {},
   "source": [
    "# Problem"
   ]
  },
  {
   "cell_type": "markdown",
   "metadata": {},
   "source": [
    "A palindromic number reads the same both ways. \n",
    "\n",
    "The largest palindrome made from the product of two 2-digit numbers is 9009 = 91 × 99.\n",
    "\n",
    "Find the largest palindrome made from the product of two 3-digit numbers."
   ]
  },
  {
   "cell_type": "markdown",
   "metadata": {},
   "source": [
    "# Solution"
   ]
  },
  {
   "cell_type": "markdown",
   "metadata": {},
   "source": [
    "First at all, let's define a function that will be checking if number is palindrome."
   ]
  },
  {
   "cell_type": "code",
   "execution_count": 32,
   "metadata": {},
   "outputs": [],
   "source": [
    "import sys"
   ]
  },
  {
   "cell_type": "code",
   "execution_count": 55,
   "metadata": {},
   "outputs": [],
   "source": [
    "def if_palindrome(n):\n",
    "    # For our loops we only have to take a number of a half of characters, \n",
    "    # because comparing elements will meet in the middle.\n",
    "    length = len(str(n)) // 2\n",
    "    for i in range(length):\n",
    "        if str(n)[i] != str(n)[-i-1]:\n",
    "            return False\n",
    "    else:\n",
    "        return True"
   ]
  },
  {
   "cell_type": "markdown",
   "metadata": {},
   "source": [
    "Define a function finding the largest palindrome."
   ]
  },
  {
   "cell_type": "code",
   "execution_count": 63,
   "metadata": {},
   "outputs": [],
   "source": [
    "def largest_palindrome():\n",
    "    maximum = 0\n",
    "    for i in range(100, 1000):\n",
    "        for j in range(i, 1000):\n",
    "            if if_palindrome(i * j) and i * j > maximum: \n",
    "                maximum = i * j\n",
    "    return maximum         "
   ]
  },
  {
   "cell_type": "markdown",
   "metadata": {},
   "source": [
    "I used here a little trick, which didn't improve time complexity of algorithm, but the number of itereations was reduces by a half.\n",
    "\n",
    "Let's imagine our loops i and j loops as square (100;999)x(100;999). \n",
    "\n",
    "This means, that we can slice it diagonaly(*\\*) and consider only one of these parts. \n",
    "\n",
    "For example  150 * 120 (left side) has its equivalent 120 * 150 on the right side."
   ]
  },
  {
   "cell_type": "markdown",
   "metadata": {},
   "source": [
    "# Answer"
   ]
  },
  {
   "cell_type": "code",
   "execution_count": 64,
   "metadata": {},
   "outputs": [
    {
     "data": {
      "text/plain": [
       "906609"
      ]
     },
     "execution_count": 64,
     "metadata": {},
     "output_type": "execute_result"
    }
   ],
   "source": [
    "largest_palindrome()"
   ]
  }
 ],
 "metadata": {
  "kernelspec": {
   "display_name": "Python 3",
   "language": "python",
   "name": "python3"
  },
  "language_info": {
   "codemirror_mode": {
    "name": "ipython",
    "version": 3
   },
   "file_extension": ".py",
   "mimetype": "text/x-python",
   "name": "python",
   "nbconvert_exporter": "python",
   "pygments_lexer": "ipython3",
   "version": "3.8.5"
  }
 },
 "nbformat": 4,
 "nbformat_minor": 4
}
